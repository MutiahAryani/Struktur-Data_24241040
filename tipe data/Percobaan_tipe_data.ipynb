{
 "cells": [
  {
   "cell_type": "code",
   "execution_count": 4,
   "id": "3cd20a3f",
   "metadata": {},
   "outputs": [
    {
     "name": "stdout",
     "output_type": "stream",
     "text": [
      "<class 'int'>\n",
      "<class 'int'>\n",
      "<class 'int'>\n"
     ]
    }
   ],
   "source": [
    "# Tipe data integer\n",
    "x = 10\n",
    "y = -200\n",
    "z = 0\n",
    "print(type(x))  # <class 'int'>\n",
    "print(type(y))  # <class 'int'>\n",
    "print(type(z))  # <class 'int'>"
   ]
  },
  {
   "cell_type": "code",
   "execution_count": 5,
   "id": "a2a92fa4",
   "metadata": {},
   "outputs": [
    {
     "name": "stdout",
     "output_type": "stream",
     "text": [
      "-175\n",
      "<class 'int'>\n"
     ]
    }
   ],
   "source": [
    "# operator penjumlahan untuk tipe data integer\n",
    "a1 = 5\n",
    "a2 = -180\n",
    "\n",
    "a3 = a1 + a2\n",
    "print(a3)\n",
    "print(type(a3))"
   ]
  },
  {
   "cell_type": "code",
   "execution_count": 6,
   "id": "9ba22354",
   "metadata": {},
   "outputs": [
    {
     "name": "stdout",
     "output_type": "stream",
     "text": [
      "3.141592\n",
      "-0.001\n",
      "1.0\n",
      "inf\n",
      "<class 'float'>\n",
      "<class 'float'>\n",
      "<class 'float'>\n",
      "<class 'float'>\n"
     ]
    }
   ],
   "source": [
    "# Tipe data float\n",
    "a = 3.141592\n",
    "b = -0.001\n",
    "c = 1.0\n",
    "d = float('inf') # memasukkan infinity sebagai float\n",
    "\n",
    "# melihat isi variabel\n",
    "print(a)\n",
    "print(b)\n",
    "print(c)\n",
    "print(d)\n",
    "\n",
    "# cek tipe data dari variabel\n",
    "print(type(a))  # <class 'float'>\n",
    "print(type(b))  # <class 'float'>\n",
    "print(type(c))  # <class 'float'>\n",
    "print(type(d))  # <class 'float'>"
   ]
  },
  {
   "cell_type": "code",
   "execution_count": 7,
   "id": "6498be5d",
   "metadata": {},
   "outputs": [
    {
     "name": "stdout",
     "output_type": "stream",
     "text": [
      "lebih kecil\n"
     ]
    }
   ],
   "source": [
    "# membandingkan nilai b3 dengan yang lain\n",
    "if (a < d):\n",
    "    print('lebih kecil')\n",
    "else:\n",
    "    print('lebih besar')"
   ]
  },
  {
   "cell_type": "code",
   "execution_count": 8,
   "id": "47b2796e",
   "metadata": {},
   "outputs": [
    {
     "name": "stdout",
     "output_type": "stream",
     "text": [
      "4.141592\n",
      "(-3.3943828540367223e-10-1.618060304898697e-10j)\n",
      "3.141592\n"
     ]
    }
   ],
   "source": [
    "# Operasi aritmatika pada float\n",
    "print(a + c)\n",
    "print(b ** a)\n",
    "print(abs(a))"
   ]
  },
  {
   "cell_type": "code",
   "execution_count": 9,
   "id": "80a8b0ef",
   "metadata": {},
   "outputs": [
    {
     "name": "stdout",
     "output_type": "stream",
     "text": [
      "-0.0031415920000000003\n",
      "<class 'float'>\n",
      "0\n"
     ]
    }
   ],
   "source": [
    "# hasil operasi aritmatika pada float\n",
    "float = b * a\n",
    "print(float)\n",
    "print(type(float))\n",
    "\n",
    "# mengubah hasil operasi aritmatika float menjadi integer\n",
    "print(int(b * a))"
   ]
  },
  {
   "cell_type": "code",
   "execution_count": 10,
   "id": "36420ad1",
   "metadata": {},
   "outputs": [
    {
     "name": "stdout",
     "output_type": "stream",
     "text": [
      "<class 'str'>\n",
      "<class 'str'>\n",
      "<class 'str'>\n"
     ]
    }
   ],
   "source": [
    "# contoh tipe data string\n",
    "a = 'Halo'\n",
    "b = \"Python\"\n",
    "c = \"\"\"Ini adalah\n",
    "string multi-baris\"\"\"\n",
    "print(type(a))  # <class 'str'>\n",
    "print(type(b))  # <class 'str'>\n",
    "print(type(c))  # <class 'str'>"
   ]
  },
  {
   "cell_type": "code",
   "execution_count": 11,
   "id": "327a9b46",
   "metadata": {},
   "outputs": [
    {
     "name": "stdout",
     "output_type": "stream",
     "text": [
      "P\n",
      "n\n",
      "Pyt\n",
      "Pyth\n",
      "Pto\n"
     ]
    }
   ],
   "source": [
    "# indexing dan slicing \n",
    "text = \"Python\"\n",
    "print(text[0])     # Output: P\n",
    "print(text[-1])    # Output: n\n",
    "print(text[0:3])   # Output: Pyt\n",
    "print(text[:4])    # Output: Pyth\n",
    "print(text[::2])   # Output: Pto (loncat 2 karakter)"
   ]
  },
  {
   "cell_type": "code",
   "execution_count": 12,
   "id": "aa4b9bb4",
   "metadata": {},
   "outputs": [
    {
     "name": "stdout",
     "output_type": "stream",
     "text": [
      "Hello World\n",
      "HiHiHi\n",
      "True\n",
      "6\n"
     ]
    }
   ],
   "source": [
    "# Operasi penggabungan string\n",
    "print('Hello ' + 'World')\n",
    "\n",
    "# Operasi pengulangan string\n",
    "print('Hi' * 3)\n",
    "\n",
    "# Operasi Pengecekan string\n",
    "print('a' in 'data')\n",
    "\n",
    "# Operasi panjang string\n",
    "print(len('Python'))\n"
   ]
  },
  {
   "cell_type": "code",
   "execution_count": 13,
   "id": "14609e14",
   "metadata": {},
   "outputs": [
    {
     "name": "stdout",
     "output_type": "stream",
     "text": [
      "PYTHON PROGRAMMING\n",
      "Python programming\n",
      "Python Programming\n",
      "java programming\n",
      "['python', 'programming']\n",
      "10\n"
     ]
    }
   ],
   "source": [
    "# fungsi dalam string\n",
    "s = \"python programming\"\n",
    "print(s.upper())       # 'PYTHON PROGRAMMING'\n",
    "print(s.capitalize())  # 'Python programming'\n",
    "print(s.title())       # 'Python Programming'\n",
    "print(s.replace(\"python\", \"java\"))  # 'java programming'\n",
    "print(s.split())       # ['python', 'programming']\n",
    "print(s.find(\"gram\"))  # 10"
   ]
  },
  {
   "cell_type": "code",
   "execution_count": 14,
   "id": "6bf42dee",
   "metadata": {},
   "outputs": [
    {
     "name": "stdout",
     "output_type": "stream",
     "text": [
      "Halo, nama saya Adam, umur saya 25\n"
     ]
    }
   ],
   "source": [
    "# String format menggunakan F-String\n",
    "name = \"Adam\"\n",
    "age = 25\n",
    "print(f\"Halo, nama saya {name}, umur saya {age}\")"
   ]
  },
  {
   "cell_type": "code",
   "execution_count": 15,
   "id": "8492b508",
   "metadata": {},
   "outputs": [
    {
     "name": "stdout",
     "output_type": "stream",
     "text": [
      "Halo, nama saya Adam, umur saya 25\n"
     ]
    }
   ],
   "source": [
    "# String format dengan format method\n",
    "print(\"Halo, nama saya {}, umur saya {}\".format(name, age))"
   ]
  },
  {
   "cell_type": "code",
   "execution_count": 16,
   "id": "255dc717",
   "metadata": {},
   "outputs": [
    {
     "name": "stdout",
     "output_type": "stream",
     "text": [
      "[1, 2, 3, 4, 5]\n",
      "['apel', 'jeruk', 'mangga']\n",
      "[1, 'dua', 3.0, True]\n",
      "[]\n"
     ]
    }
   ],
   "source": [
    "# membuat list\n",
    "angka = [1, 2, 3, 4, 5]\n",
    "buah = [\"apel\", \"jeruk\", \"mangga\"]\n",
    "campuran = [1, \"dua\", 3.0, True]\n",
    "kosong = []\n",
    "\n",
    "# memanggil list\n",
    "print(angka)\n",
    "print(buah)\n",
    "print(campuran)\n",
    "print(kosong)"
   ]
  },
  {
   "cell_type": "code",
   "execution_count": 17,
   "id": "612e9e22",
   "metadata": {},
   "outputs": [
    {
     "name": "stdout",
     "output_type": "stream",
     "text": [
      "a\n",
      "d\n",
      "['b', 'c']\n",
      "['a', 'b']\n"
     ]
    }
   ],
   "source": [
    "# indexing dan slicing pada list\n",
    "data = [\"a\", \"b\", \"c\", \"d\"]\n",
    "print(data[0])      # Output: a\n",
    "print(data[-1])     # Output: d\n",
    "print(data[1:3])    # Output: ['b', 'c']\n",
    "print(data[:2])     # Output: ['a', 'b']"
   ]
  },
  {
   "cell_type": "code",
   "execution_count": 18,
   "id": "1172274d",
   "metadata": {},
   "outputs": [
    {
     "name": "stdout",
     "output_type": "stream",
     "text": [
      "[1, 2, 3, 4, 5, 10, 20]\n",
      "[1, 2, 1, 2, 1, 2]\n",
      "7\n",
      "6\n",
      "True\n",
      "False\n"
     ]
    }
   ],
   "source": [
    "# Operasi penambahan anggota list\n",
    "data = [1, 2, 3, 4, 5]\n",
    "data = data + [10, 20]\n",
    "print(data)\n",
    "\n",
    "# Operasi pengulangan list\n",
    "list = [1, 2]\n",
    "list = list * 3\n",
    "print(list)\n",
    "\n",
    "# Operasi mengukur panjang list\n",
    "print(len(data))\n",
    "print(len(list))\n",
    "\n",
    "# Operasi mengecek keanggotaan pada list\n",
    "print(20 in data)\n",
    "print(13 in list)"
   ]
  },
  {
   "cell_type": "code",
   "execution_count": 19,
   "id": "8bcf7303",
   "metadata": {},
   "outputs": [
    {
     "name": "stdout",
     "output_type": "stream",
     "text": [
      "[3, 1, 4, 1, 5]\n",
      "[3, 1, 4, 1, 5, 9]\n",
      "[3, 1, 7, 4, 1, 5, 9]\n",
      "[3, 7, 4, 1, 5, 9]\n",
      "[3, 7, 4, 1, 5]\n",
      "[1, 3, 4, 5, 7]\n",
      "[7, 5, 4, 3, 1]\n",
      "2\n",
      "1\n"
     ]
    }
   ],
   "source": [
    "# Fungsi pada list \n",
    "a = [3, 1, 4, 1, 5]\n",
    "print(a)\n",
    "a.append(9)         # Menambahkan elemen di akhir\n",
    "print(a)\n",
    "a.insert(2, 7)      # Menyisipkan angka 7 di indeks ke-2\n",
    "print(a)\n",
    "a.remove(1)         # Menghapus elemen pertama yang bernilai 1\n",
    "print(a)\n",
    "a.pop()             # Menghapus elemen terakhir\n",
    "print(a)\n",
    "a.sort()            # Mengurutkan list secara ascending\n",
    "print(a)\n",
    "a.reverse()         # Membalik urutan elemen\n",
    "print(a)\n",
    "print(a.index(4))   # Mengembalikan indeks dari nilai 4\n",
    "print(a.count(1))   # Menghitung jumlah kemunculan angka 1"
   ]
  },
  {
   "cell_type": "code",
   "execution_count": 20,
   "id": "172d33dd",
   "metadata": {},
   "outputs": [
    {
     "name": "stdout",
     "output_type": "stream",
     "text": [
      "[[1, 2, 3], [4, 5, 6], [7, 8, 9]]\n",
      "6\n"
     ]
    }
   ],
   "source": [
    "# membuat matriks dari list bersarang\n",
    "matrix = [\n",
    "    [1, 2, 3],\n",
    "    [4, 5, 6],\n",
    "    [7, 8, 9]\n",
    "]\n",
    "# memanggil matriks\n",
    "print(matrix)\n",
    "# memanggil elemen list pada indeks [1][2]\n",
    "print(matrix[1][2])  # Output: 6"
   ]
  },
  {
   "cell_type": "code",
   "execution_count": 21,
   "id": "59fca39c",
   "metadata": {},
   "outputs": [
    {
     "name": "stdout",
     "output_type": "stream",
     "text": [
      "apel\n",
      "jeruk\n",
      "mangga\n",
      "0: apel\n",
      "1: jeruk\n",
      "2: mangga\n"
     ]
    }
   ],
   "source": [
    "# Contoh looping list\n",
    "buah = [\"apel\", \"jeruk\", \"mangga\"]\n",
    "\n",
    "# For Loop\n",
    "for item in buah:\n",
    "    print(item)\n",
    "\n",
    "# Mengakses indeks dan elemen\n",
    "for i, item in enumerate(buah):\n",
    "    print(f\"{i}: {item}\")"
   ]
  },
  {
   "cell_type": "code",
   "execution_count": 22,
   "id": "6eeedc5c",
   "metadata": {},
   "outputs": [
    {
     "name": "stdout",
     "output_type": "stream",
     "text": [
      "[0, 1, 4, 9, 16, 25, 36, 49, 64, 81]\n",
      "[0, 2, 4, 6, 8]\n"
     ]
    }
   ],
   "source": [
    "# List Comprehension\n",
    "# Buat list kuadrat dari 0-9\n",
    "kuadrat = [x**2 for x in range(10)]\n",
    "print(kuadrat)  # [0, 1, 4, 9, ..., 81]\n",
    "\n",
    "# Filter hanya bilangan genap\n",
    "genap = [x for x in range(10) if x % 2 == 0]\n",
    "print(genap)  # [0, 2, 4, 6, 8]"
   ]
  },
  {
   "cell_type": "code",
   "execution_count": 23,
   "id": "6e4207d4",
   "metadata": {},
   "outputs": [
    {
     "name": "stdout",
     "output_type": "stream",
     "text": [
      "<class 'tuple'>\n",
      "<class 'tuple'>\n",
      "<class 'str'>\n",
      "<class 'str'>\n"
     ]
    }
   ],
   "source": [
    "# cara membuat tuple singleton\n",
    "satu = ('Isi',)\n",
    "dua = \"ini adalah tuple?\",\n",
    "\n",
    "# cek tipe datanya\n",
    "print(type(satu))\n",
    "print(type(dua))\n",
    "\n",
    "# jika tidak pakai koma\n",
    "satu = ('Isi')\n",
    "dua = \"ini adalah tuple?\"\n",
    "\n",
    "# cek tipe datanya\n",
    "print(type(satu))\n",
    "print(type(dua))"
   ]
  },
  {
   "cell_type": "code",
   "execution_count": 24,
   "id": "0db996b5",
   "metadata": {},
   "outputs": [
    {
     "name": "stdout",
     "output_type": "stream",
     "text": [
      "Bachtiar\n"
     ]
    }
   ],
   "source": [
    "# membuat tuple\n",
    "nama = ('Adam', 'Bachtiar', 'Maulachela')\n",
    "\n",
    "# mengakses indeks ke 1 dari tuple\n",
    "print(nama[1])"
   ]
  },
  {
   "cell_type": "code",
   "execution_count": 25,
   "id": "d30d81c3",
   "metadata": {},
   "outputs": [
    {
     "ename": "TypeError",
     "evalue": "'tuple' object does not support item assignment",
     "output_type": "error",
     "traceback": [
      "\u001b[31m---------------------------------------------------------------------------\u001b[39m",
      "\u001b[31mTypeError\u001b[39m                                 Traceback (most recent call last)",
      "\u001b[36mCell\u001b[39m\u001b[36m \u001b[39m\u001b[32mIn[25]\u001b[39m\u001b[32m, line 5\u001b[39m\n\u001b[32m      2\u001b[39m t = (\u001b[32m1\u001b[39m, \u001b[32m5\u001b[39m, \u001b[32m10\u001b[39m, \u001b[32m15\u001b[39m)\n\u001b[32m      4\u001b[39m \u001b[38;5;66;03m# mengubah isi elemen tuple\u001b[39;00m\n\u001b[32m----> \u001b[39m\u001b[32m5\u001b[39m \u001b[43mt\u001b[49m\u001b[43m[\u001b[49m\u001b[32;43m0\u001b[39;49m\u001b[43m]\u001b[49m = \u001b[32m0\u001b[39m\n",
      "\u001b[31mTypeError\u001b[39m: 'tuple' object does not support item assignment"
     ]
    }
   ],
   "source": [
    "# Membuat Tuple\n",
    "t = (1, 5, 10, 15)\n",
    "\n",
    "# mengubah isi elemen tuple\n",
    "t[0] = 0"
   ]
  },
  {
   "cell_type": "code",
   "execution_count": 29,
   "id": "eaa59741",
   "metadata": {},
   "outputs": [
    {
     "name": "stdout",
     "output_type": "stream",
     "text": [
      "(20, 30)\n",
      "(10, 20)\n",
      "(30, 40)\n"
     ]
    }
   ],
   "source": [
    "# membuat tuple\n",
    "angka = (10, 20, 30, 40)\n",
    "\n",
    "# Memotong tuple\n",
    "print(angka[1:3]) \n",
    "print(angka[:2])\n",
    "print(angka[2:])"
   ]
  },
  {
   "cell_type": "code",
   "execution_count": 30,
   "id": "98010bd9",
   "metadata": {},
   "outputs": [
    {
     "name": "stdout",
     "output_type": "stream",
     "text": [
      "(1, 2, 3, 4)\n",
      "('A', 'A', 'A')\n",
      "4\n",
      "False\n"
     ]
    }
   ],
   "source": [
    "# Operasi pada tuple\n",
    "# penggabungan tuple\n",
    "print((1, 2) + (3, 4))\n",
    "\n",
    "# pengulangan tuple\n",
    "print(('A',) * 3)\n",
    "\n",
    "# cek panjang tuple\n",
    "data = (1, 2, 4, 5)\n",
    "print(len(data))\n",
    "\n",
    "# cek keanggotaan tuple\n",
    "print(3 in data)"
   ]
  },
  {
   "cell_type": "code",
   "execution_count": 31,
   "id": "8e95d277",
   "metadata": {},
   "outputs": [
    {
     "name": "stdout",
     "output_type": "stream",
     "text": [
      "3\n",
      "(('aku', 'mahasiswa', 'PTI UNDIKMA'), ('selama', 3, 'tahun'))\n"
     ]
    }
   ],
   "source": [
    "# Nested Tuple atau Tuple Bersarang\n",
    "t = (1, 2, (3, 4))\n",
    "print(t[2][0])  # Output: 3\n",
    "\n",
    "tuple1 = \"aku\", \"mahasiswa\", \"PTI UNDIKMA\"\n",
    "tuple2 = \"selama\", 3, \"tahun\"\n",
    "tuple3 = (tuple1, tuple2) # <- nested tuple\n",
    "\n",
    "print(tuple3)"
   ]
  },
  {
   "cell_type": "code",
   "execution_count": 32,
   "id": "f474afe5",
   "metadata": {},
   "outputs": [
    {
     "name": "stdout",
     "output_type": "stream",
     "text": [
      "([1, 2, 3, 4], True)\n"
     ]
    }
   ],
   "source": [
    "# tuple berisi list\n",
    "t = ([1,2,3,4], True)\n",
    "\n",
    "print (t)"
   ]
  },
  {
   "cell_type": "code",
   "execution_count": 33,
   "id": "f1bcd0c4",
   "metadata": {},
   "outputs": [
    {
     "name": "stdout",
     "output_type": "stream",
     "text": [
      "123\n",
      "PTI UNDIKMA\n",
      "https://fsttundikma.id\n"
     ]
    }
   ],
   "source": [
    "# Sequence Unpacking\n",
    "# pertama buat tuple seperti ini\n",
    "web = 123, \"PTI UNDIKMA\", \"https://fsttundikma.id\"\n",
    "\n",
    "# lalu di-unpacking\n",
    "id_web, nama, url = web\n",
    "\n",
    "# maka sekarang tiga variabel tersebut akan bernilai\n",
    "# sesuai yang ada di dalam tuple\n",
    "#\n",
    "# mari kita cetak\n",
    "print(id_web)\n",
    "print(nama)\n",
    "print(url)"
   ]
  },
  {
   "cell_type": "code",
   "execution_count": 1,
   "id": "50f12f31",
   "metadata": {},
   "outputs": [
    {
     "ename": "ValueError",
     "evalue": "invalid literal for int() with base 10: ''",
     "output_type": "error",
     "traceback": [
      "\u001b[31m---------------------------------------------------------------------------\u001b[39m",
      "\u001b[31mValueError\u001b[39m                                Traceback (most recent call last)",
      "\u001b[36mCell\u001b[39m\u001b[36m \u001b[39m\u001b[32mIn[1]\u001b[39m\u001b[32m, line 3\u001b[39m\n\u001b[32m      1\u001b[39m \u001b[38;5;66;03m# Latihan tuple \u001b[39;00m\n\u001b[32m      2\u001b[39m matkul_list = []\n\u001b[32m----> \u001b[39m\u001b[32m3\u001b[39m jumlah = \u001b[38;5;28;43mint\u001b[39;49m\u001b[43m(\u001b[49m\u001b[38;5;28;43minput\u001b[39;49m\u001b[43m(\u001b[49m\u001b[33;43m\"\u001b[39;49m\u001b[33;43mInput jumlah mata kuliah: \u001b[39;49m\u001b[33;43m\"\u001b[39;49m\u001b[43m)\u001b[49m\u001b[43m)\u001b[49m\n\u001b[32m      5\u001b[39m \u001b[38;5;28;01mfor\u001b[39;00m i \u001b[38;5;129;01min\u001b[39;00m \u001b[38;5;28mrange\u001b[39m(jumlah):\n\u001b[32m      6\u001b[39m     \u001b[38;5;28mprint\u001b[39m(\u001b[33mf\u001b[39m\u001b[33m\"\u001b[39m\u001b[38;5;130;01m\\n\u001b[39;00m\u001b[33mMata kuliah ke-\u001b[39m\u001b[38;5;132;01m{\u001b[39;00mi+\u001b[32m1\u001b[39m\u001b[38;5;132;01m}\u001b[39;00m\u001b[33m:\u001b[39m\u001b[33m\"\u001b[39m)\n",
      "\u001b[31mValueError\u001b[39m: invalid literal for int() with base 10: ''"
     ]
    }
   ],
   "source": [
    "# Latihan tuple \n",
    "matkul_list = []\n",
    "jumlah = int(input(\"Input jumlah mata kuliah: \"))\n",
    "\n",
    "for i in range(jumlah):\n",
    "    print(f\"\\nMata kuliah ke-{i+1}:\")\n",
    "    kode = input(\"Kode: \")\n",
    "    nama = input(\"Nama: \")\n",
    "    sks = int(input(\"SKS: \"))\n",
    "    matkul = (kode, nama, sks)\n",
    "    matkul_list.append(matkul)\n",
    "\n",
    "# Tampilkan data\n",
    "print(\"\\nDaftar Mata Kuliah:\")\n",
    "for m in matkul_list:\n",
    "    print(m)\n",
    "\n",
    "total_sks = sum(m[2] for m in matkul_list)\n",
    "print(f\"\\nTotal SKS: {total_sks}\")"
   ]
  },
  {
   "cell_type": "code",
   "execution_count": 2,
   "id": "1b761bd8",
   "metadata": {},
   "outputs": [],
   "source": [
    "# membuat dictionary\n",
    "data = {\n",
    "    \"nama\"      : \"Adam Bachtiar Maulachela\",\n",
    "    \"NIDN\"      : 62708078505,\n",
    "    \"Prodi\"     : \"Pendidikan Teknologi Informasi\",\n",
    "    \"mat_kul\"    : ['Algoritma dan Pemrograman', 'Struktur Data', 'PBO'],\n",
    "    \"status\"    : True,\n",
    "    \"sosmed\"    : {\n",
    "        \"Github\"    : \"@adamMaulachela\",\n",
    "        \"twitter\"   : '_',\n",
    "        \"instagram\" : '-'\n",
    "    }\n",
    "}"
   ]
  },
  {
   "cell_type": "code",
   "execution_count": 3,
   "id": "449f306e",
   "metadata": {},
   "outputs": [
    {
     "name": "stdout",
     "output_type": "stream",
     "text": [
      "Nama Saya adalah Adam Bachtiar Maulachela\n",
      "Akun Github saya @adamMaulachela\n",
      "NIDN Saya adalah 62708078505\n"
     ]
    }
   ],
   "source": [
    "# Cara kita mengakses dictionary dengan key\n",
    "print(\"Nama Saya adalah %s\" % data['nama'])\n",
    "print(\"Akun Github saya %s\" % data['sosmed']['Github'])\n",
    "\n",
    "# cara lainnya dengan menggunakan .get\n",
    "print(\"NIDN Saya adalah %s\" % data.get('NIDN'))"
   ]
  },
  {
   "cell_type": "code",
   "execution_count": 4,
   "id": "367ebdd7",
   "metadata": {},
   "outputs": [
    {
     "name": "stdout",
     "output_type": "stream",
     "text": [
      "False\n",
      "@adammaulachaila\n"
     ]
    }
   ],
   "source": [
    "# Mengubah nilai item dictionary dict dengan key\n",
    "data['status'] = False\n",
    "\n",
    "# Cek hasil perubahan\n",
    "print(data['status'])\n",
    "\n",
    "# Mengubah nilai item dictionary dengan .update\n",
    "data.update({\"sosmed\" : {\"twitter\" : \"@adammaulachaila\"}})\n",
    "\n",
    "# cek hasil perubahan\n",
    "print(data['sosmed']['twitter'])"
   ]
  },
  {
   "cell_type": "code",
   "execution_count": 5,
   "id": "e74dce95",
   "metadata": {},
   "outputs": [
    {
     "name": "stdout",
     "output_type": "stream",
     "text": [
      "{'nama': 'Adam Bachtiar Maulachela', 'NIDN': 62708078505, 'Prodi': 'Pendidikan Teknologi Informasi', 'mat_kul': ['Algoritma dan Pemrograman', 'Struktur Data', 'PBO'], 'sosmed': {'twitter': '@adammaulachaila'}}\n",
      "{'nama': 'Adam Bachtiar Maulachela', 'NIDN': 62708078505, 'Prodi': 'Pendidikan Teknologi Informasi', 'mat_kul': ['Algoritma dan Pemrograman', 'Struktur Data', 'PBO']}\n"
     ]
    }
   ],
   "source": [
    "# Menghapus menggunakan perintah del\n",
    "del data['status']\n",
    "\n",
    "# cek hasil penghapusan data \n",
    "print(data)\n",
    "\n",
    "# Menghapus item menggunkan method pop()\n",
    "data.pop(\"sosmed\")\n",
    "\n",
    "# cek hasil penghapusan data \n",
    "print(data)\n",
    "\n",
    "# menghapus data seluruhnya\n",
    "data.clear()"
   ]
  },
  {
   "cell_type": "code",
   "execution_count": 6,
   "id": "a0d6ccd7",
   "metadata": {},
   "outputs": [
    {
     "name": "stdout",
     "output_type": "stream",
     "text": [
      "{'name': 'Adam Bachtiar Maulachela', 'nidn': '0708078505'}\n"
     ]
    }
   ],
   "source": [
    "# Menambah data dictionary\n",
    "# membuat dictionary\n",
    "mahasiswa = {\n",
    "    \"name\" : \"Adam Bachtiar Maulachela\"\n",
    "}\n",
    "\n",
    "# menambahkan nim\n",
    "mahasiswa.update({\n",
    "    \"nidn\" : \"0708078505\"\n",
    "})\n",
    "\n",
    "# melihat hasilnya\n",
    "print(mahasiswa)"
   ]
  },
  {
   "cell_type": "code",
   "execution_count": 7,
   "id": "335d575d",
   "metadata": {},
   "outputs": [
    {
     "name": "stdout",
     "output_type": "stream",
     "text": [
      "name Adam Bachtiar Maulachela\n",
      "nidn 0708078505\n",
      "name: Adam Bachtiar Maulachela\n",
      "nidn: 0708078505\n"
     ]
    }
   ],
   "source": [
    "# looping dictionary\n",
    "# mencetak data pada dict secara berulang-ulang setiap key\n",
    "for key in mahasiswa:\n",
    "    print(key, mahasiswa[key])\n",
    "\n",
    "# Atau:\n",
    "for key, value in mahasiswa.items():\n",
    "    print(f\"{key}: {value}\")"
   ]
  }
 ],
 "metadata": {
  "kernelspec": {
   "display_name": "Python 3",
   "language": "python",
   "name": "python3"
  },
  "language_info": {
   "codemirror_mode": {
    "name": "ipython",
    "version": 3
   },
   "file_extension": ".py",
   "mimetype": "text/x-python",
   "name": "python",
   "nbconvert_exporter": "python",
   "pygments_lexer": "ipython3",
   "version": "3.13.1"
  }
 },
 "nbformat": 4,
 "nbformat_minor": 5
}
